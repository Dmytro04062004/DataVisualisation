{
  "nbformat": 4,
  "nbformat_minor": 0,
  "metadata": {
    "colab": {
      "provenance": [],
      "authorship_tag": "ABX9TyNi698Pe63LXuhgiaYGUS/G",
      "include_colab_link": true
    },
    "kernelspec": {
      "name": "python3",
      "display_name": "Python 3"
    },
    "language_info": {
      "name": "python"
    }
  },
  "cells": [
    {
      "cell_type": "markdown",
      "metadata": {
        "id": "view-in-github",
        "colab_type": "text"
      },
      "source": [
        "<a href=\"https://colab.research.google.com/github/Dmytro04062004/Deep-Learning/blob/main/lab2.ipynb\" target=\"_parent\"><img src=\"https://colab.research.google.com/assets/colab-badge.svg\" alt=\"Open In Colab\"/></a>"
      ]
    },
    {
      "cell_type": "code",
      "execution_count": 5,
      "metadata": {
        "id": "uf4pPQbdYS9_"
      },
      "outputs": [],
      "source": [
        "import numpy as np\n",
        "import math\n",
        "import matplotlib.pyplot as plt"
      ]
    },
    {
      "cell_type": "code",
      "source": [
        "class Parameter:\n",
        "    def __init__(self, value: float, name: str) -> None:\n",
        "        self._value = value\n",
        "        self._name = name\n",
        "\n",
        "        self._grad = 0.0\n",
        "        self._backward = lambda: None\n",
        "        self._parents = []\n",
        "        def __repr__(self) -> str:\n",
        "            return f\"Parameter {self._name} = {self._value}; dL/d[{self._name}] = {self._grad}\"\n",
        "\n",
        "        def __mul__(self, other):\n",
        "            result = Parameter(\n",
        "            self._value * other._value,\n",
        "            f'{self._name} * {other._name}'\n",
        "        )\n",
        "        result._parents = [self, other]\n",
        "\n",
        "\n",
        "        def _backward():\n",
        "            self._grad += other._value * result._grad #dL / dself\n",
        "            other._grad += self._value * result._grad # dL / dother\n",
        "            result._backward = _backward\n",
        "            return result\n",
        "\n",
        "    def __add__(self, other):\n",
        "        result = Parameter(\n",
        "            self._value + other._value,\n",
        "            f'[{self._name} + {other._name}]'\n",
        "        )\n",
        "        result._parents = [self, other]\n",
        "\n",
        "        def _backward():\n",
        "            self._grad += 1.0 * result._grad  #dL / dself\n",
        "            other._grad += 1.0 * result._grad # dL / dother\n",
        "\n",
        "        result._backward = _backward\n",
        "\n",
        "        return result\n",
        "\n",
        "\n",
        "        def sigmoid(self):\n",
        "        # f(x) = 1 / (1 + exp(self._value))\n",
        "        # f'(x) = f(x) * (1 - f(x))\n",
        "         val = 1.0 / (1.0 + math.exp(-self._value))\n",
        "\n",
        "        result = Parameter(\n",
        "            val,\n",
        "            f\"σ({self._name})\",\n",
        "            (self, )\n",
        "        )\n",
        "        def _backward():\n",
        "            self._grad = result._grad * val * (1 - val)\n",
        "\n",
        "            result._backward = _backward\n",
        "\n",
        "            return result\n",
        "\n",
        "\n",
        "        def relu(self):\n",
        "            val = np.maximum(0, self._value)\n",
        "\n",
        "        result = Parameter(\n",
        "            val,\n",
        "            f\"relu({self._name})\",\n",
        "            (self, )\n",
        "        )\n",
        "\n",
        "\n",
        "def _backward():\n",
        "            self._grad = result._grad * 0.5 * (1 + np.tanh(np.sqrt(2/np.pi) * (self._value + 0.044715 * np.power(self._value, 3)))) + 0.5 * self._value / np.power(np.cosh(np.sqrt(2/np.pi) * (self._value + 0.044715 * np.power(self._value, 3))), 2) * np.sqrt(2/np.pi) * (1 + 3 * 0.044715 * np.power(self._value, 2))\n",
        "            result._backward = _backward\n",
        "            return result\n",
        "def gelu(self):\n",
        "            val = 0.5 * self._value * (1 + np.tanh(np.sqrt(2/np.pi) * (self._value + 0.044715 * self._value ** 3)))\n",
        "            result = Parameter(\n",
        "            val,\n",
        "            f\"gelu({self._name})\",\n",
        "            (self, )\n",
        "        )\n",
        "            def _backward():\n",
        "                 self._grad = result._grad * np.array(self._value >= 0).astype(np.float64)\n",
        "                 result._backward = _backward\n",
        "                 return result\n",
        "\n",
        "\n",
        "def backward(self):\n",
        "       stack = []\n",
        "       visited = set()\n",
        "       def topoligical_sort(v):\n",
        "           if v not in visited:\n",
        "               visited.add(v)\n",
        "               for child in v._prev:\n",
        "                   topoligical_sort(child)\n",
        "               sorted.append(v)\n",
        "       topoligical_sort(self)\n",
        "\n",
        "       self._grad = 1.0\n",
        "       for node in reversed(stack):\n",
        "           node._backward()\n",
        "\n",
        "\n",
        "def sgd(weights: list, lr = 0.001):\n",
        "    for param in weights:\n",
        "        param._value -= param._grad * lr\n",
        "    return weights\n"
      ],
      "metadata": {
        "id": "a5y_HvN5YYyu"
      },
      "execution_count": 13,
      "outputs": []
    },
    {
      "cell_type": "markdown",
      "source": [
        "# Backpropagation test (Backward)"
      ],
      "metadata": {
        "id": "WLLkQfurZwfd"
      }
    },
    {
      "cell_type": "code",
      "source": [
        "a = Parameter(3.0, name='a')\n",
        "b = Parameter(2.0, name='b')\n",
        "c = Parameter(5.0, name='c')\n",
        "d = Parameter(5.0, name='d')"
      ],
      "metadata": {
        "id": "0svh5wwZdLTA"
      },
      "execution_count": null,
      "outputs": []
    },
    {
      "cell_type": "code",
      "source": [
        "print(a)\n",
        "print(b)\n",
        "print(c)\n",
        "print(d)"
      ],
      "metadata": {
        "colab": {
          "base_uri": "https://localhost:8080/"
        },
        "id": "dP-3Ihc5aUVt",
        "outputId": "ca71813b-6d66-411c-8895-fccb6a1e88a5"
      },
      "execution_count": 24,
      "outputs": [
        {
          "output_type": "stream",
          "name": "stdout",
          "text": [
            "Parameter a = 3.0; dL/d[a] = 0.0\n",
            "Parameter b = 2.0; dL/d[b] = 0.0\n",
            "Parameter c = 5.0; dL/d[c] = 0.0\n",
            "Parameter d = 5.0; dL/d[d] = 0.0\n"
          ]
        }
      ]
    },
    {
      "cell_type": "code",
      "source": [
        "u = a * b\n",
        "v = u + c\n",
        "L = v * d\n",
        "\n",
        "print(u)\n",
        "print(v)\n",
        "print(L)"
      ],
      "metadata": {
        "colab": {
          "base_uri": "https://localhost:8080/"
        },
        "id": "Ih4QUagTdpW1",
        "outputId": "ccb946ea-33c4-4f13-9c88-f3589e54d620"
      },
      "execution_count": 25,
      "outputs": [
        {
          "output_type": "stream",
          "name": "stdout",
          "text": [
            "Parameter a * b = 6.0; dL/d[a * b] = 0.0\n",
            "Parameter [a * b + c] = 11.0; dL/d[[a * b + c]] = 0.0\n",
            "Parameter [a * b + c] * d = 55.0; dL/d[[a * b + c] * d] = 0.0\n"
          ]
        }
      ]
    },
    {
      "cell_type": "code",
      "source": [
        "L.backward()\n",
        "\n",
        "print(L)\n",
        "print(v)\n",
        "print(d)\n",
        "print(u)\n",
        "print(c)\n",
        "print(a)\n",
        "print(b)"
      ],
      "metadata": {
        "colab": {
          "base_uri": "https://localhost:8080/"
        },
        "id": "UI21pwF-fI6J",
        "outputId": "fddea327-f0b4-46c5-f81e-2a4a4f60c9a1"
      },
      "execution_count": 26,
      "outputs": [
        {
          "output_type": "stream",
          "name": "stdout",
          "text": [
            "Parameter [a * b + c] * d = 55.0; dL/d[[a * b + c] * d] = 1.0\n",
            "Parameter [a * b + c] = 11.0; dL/d[[a * b + c]] = 5.0\n",
            "Parameter d = 5.0; dL/d[d] = 11.0\n",
            "Parameter a * b = 6.0; dL/d[a * b] = 5.0\n",
            "Parameter c = 5.0; dL/d[c] = 5.0\n",
            "Parameter a = 3.0; dL/d[a] = 10.0\n",
            "Parameter b = 2.0; dL/d[b] = 15.0\n"
          ]
        }
      ]
    },
    {
      "cell_type": "code",
      "source": [
        "x1 = Parameter(3.0, name='x1')\n",
        "x2 = Parameter(4.0, name='x2')\n",
        "\n",
        "w1 = Parameter(1.0, name='w1')\n",
        "w2 = Parameter(2.0, name='w2')\n",
        "\n",
        "x1w1 = x1 * w1\n",
        "x2w2 = x2 * w2\n",
        "xw = x1w1 + x2w2\n",
        "out = xw.relu()\n",
        "\n",
        "print(out)\n",
        "print(xw)\n",
        "print(x1w1)\n",
        "print(x2w2)\n",
        "print(x1)\n",
        "print(w1)\n",
        "print(x2)\n",
        "print(w2)"
      ],
      "metadata": {
        "colab": {
          "base_uri": "https://localhost:8080/"
        },
        "id": "jRvisRM1hl_A",
        "outputId": "e19987ac-372c-4dbc-8daa-8e35dc62a0f4"
      },
      "execution_count": 30,
      "outputs": [
        {
          "output_type": "stream",
          "name": "stdout",
          "text": [
            "Parameter ReLU([x1 * w1 + x2 * w2]) = 10.999816284359673; dL/d[ReLU([x1 * w1 + x2 * w2])] = 0.0\n",
            "Parameter [x1 * w1 + x2 * w2] = 11.0; dL/d[[x1 * w1 + x2 * w2]] = 0.0\n",
            "Parameter x1 * w1 = 3.0; dL/d[x1 * w1] = 0.0\n",
            "Parameter x2 * w2 = 8.0; dL/d[x2 * w2] = 0.0\n",
            "Parameter x1 = 3.0; dL/d[x1] = 0.0\n",
            "Parameter w1 = 1.0; dL/d[w1] = 0.0\n",
            "Parameter x2 = 4.0; dL/d[x2] = 0.0\n",
            "Parameter w2 = 2.0; dL/d[w2] = 0.0\n"
          ]
        }
      ]
    },
    {
      "cell_type": "code",
      "source": [
        "out.backward()\n",
        "\n",
        "print(out)\n",
        "print(xw)\n",
        "print(x1w1)\n",
        "print(x2w2)\n",
        "print(x1)\n",
        "print(w1)\n",
        "print(x2)\n",
        "print(w2)"
      ],
      "metadata": {
        "colab": {
          "base_uri": "https://localhost:8080/"
        },
        "id": "dUb7QN-PifJJ",
        "outputId": "9af50682-c539-4c92-96b0-b4293cac37b5"
      },
      "execution_count": 31,
      "outputs": [
        {
          "output_type": "stream",
          "name": "stdout",
          "text": [
            "Parameter ReLU([x1 * w1 + x2 * w2]) = 10.999816284359673; dL/d[ReLU([x1 * w1 + x2 * w2])] = 1.0\n",
            "Parameter [x1 * w1 + x2 * w2] = 11.0; dL/d[[x1 * w1 + x2 * w2]] = 1.0001670111501668\n",
            "Parameter x1 * w1 = 3.0; dL/d[x1 * w1] = 1.0001670111501668\n",
            "Parameter x2 * w2 = 8.0; dL/d[x2 * w2] = 1.0001670111501668\n",
            "Parameter x1 = 3.0; dL/d[x1] = 1.0001670111501668\n",
            "Parameter w1 = 1.0; dL/d[w1] = 3.0005010334505005\n",
            "Parameter x2 = 4.0; dL/d[x2] = 2.0003340223003336\n",
            "Parameter w2 = 2.0; dL/d[w2] = 4.000668044600667\n"
          ]
        }
      ]
    },
    {
      "cell_type": "markdown",
      "source": [
        "# Gradient descent test"
      ],
      "metadata": {
        "id": "FXGCmgcVi5pA"
      }
    },
    {
      "cell_type": "code",
      "source": [
        "w = Parameter(0.5, name='w')\n",
        "b = Parameter(0.1, name='b')\n",
        "x = Parameter(5.0, name='x')\n",
        "\n",
        "learning_rate = 0.001\n",
        "y_target = Parameter(3.0, name='target')\n",
        "\n",
        "for n in range(15):\n",
        "  y_pred = (x * w + b).softplus()\n",
        "  loss = (y_pred - y_target) ** 2\n",
        "\n",
        "  loss.backward()\n",
        "\n",
        "  gd(learning_rate, [w, b])\n",
        "\n",
        "  print(f\"loss {n} steps: \\t {loss._value}\")"
      ],
      "metadata": {
        "colab": {
          "base_uri": "https://localhost:8080/"
        },
        "id": "EpHA5H4qkBoR",
        "outputId": "31e94c72-6060-4b02-a3fd-f25cca004c5f"
      },
      "execution_count": 35,
      "outputs": [
        {
          "output_type": "stream",
          "name": "stdout",
          "text": [
            "loss 0 steps: \t 0.107872231134043277\n",
            "loss 1 steps: \t 0.098013856114560012\n",
            "loss 2 steps: \t 0.089631592984102648\n",
            "loss 3 steps: \t 0.081579400283828474\n",
            "loss 4 steps: \t 0.074800276590148621\n",
            "loss 5 steps: \t 0.067900424689250818\n",
            "loss 6 steps: \t 0.061801018726025673\n",
            "loss 7 steps: \t 0.056932008441708236\n",
            "loss 8 steps: \t 0.051277600214332961\n",
            "loss 9 steps: \t 0.042958611068518573\n",
            "loss 10 steps:  0.042536295349204112\n",
            "loss 11 steps:  0.038707861986290615\n",
            "loss 12 steps:  0.035249104773248206\n",
            "loss 13 steps:  0.032039276541904621\n",
            "loss 14 steps:  0.024872544178931002\n"
          ]
        }
      ]
    }
  ]
}