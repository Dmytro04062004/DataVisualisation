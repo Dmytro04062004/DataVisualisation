{
  "nbformat": 4,
  "nbformat_minor": 0,
  "metadata": {
    "colab": {
      "provenance": [],
      "authorship_tag": "ABX9TyOBf7DhTCAQmF+Hs10LxOOO",
      "include_colab_link": true
    },
    "kernelspec": {
      "name": "python3",
      "display_name": "Python 3"
    },
    "language_info": {
      "name": "python"
    }
  },
  "cells": [
    {
      "cell_type": "markdown",
      "metadata": {
        "id": "view-in-github",
        "colab_type": "text"
      },
      "source": [
        "<a href=\"https://colab.research.google.com/github/Dmytro04062004/Deep-Learning/blob/main/Untitled3.ipynb\" target=\"_parent\"><img src=\"https://colab.research.google.com/assets/colab-badge.svg\" alt=\"Open In Colab\"/></a>"
      ]
    },
    {
      "cell_type": "code",
      "execution_count": 1,
      "metadata": {
        "id": "uf4pPQbdYS9_"
      },
      "outputs": [],
      "source": [
        "import numpy as np\n",
        "import math\n",
        "import matplotlib.pyplot as plt"
      ]
    },
    {
      "cell_type": "code",
      "source": [
        "class Parameter:\n",
        "    def __init__(self, value: float, name: str) -> None:\n",
        "        self._value = value\n",
        "        self._name = name\n",
        "\n",
        "        self._grad = 0.0\n",
        "        self._backward = lambda: None\n",
        "        self._parents = []\n",
        "        def __repr__(self) -> str:\n",
        "            return f\"Parameter {self._name} = {self._value}; dL/d[{self._name}] = {self._grad}\"\n",
        "\n",
        "        def __mul__(self, other):\n",
        "            result = Parameter(\n",
        "            self._value * other._value,\n",
        "            f'{self._name} * {other._name}'\n",
        "        )\n",
        "        result._parents = [self, other]\n",
        "\n",
        "\n",
        "        def _backward():\n",
        "            self._grad += other._value * result._grad #dL / dself\n",
        "            other._grad += self._value * result._grad # dL / dother\n",
        "            result._backward = _backward\n",
        "            return result\n",
        "\n",
        "    def __add__(self, other):\n",
        "        result = Parameter(\n",
        "            self._value + other._value,\n",
        "            f'[{self._name} + {other._name}]'\n",
        "        )\n",
        "        result._parents = [self, other]\n",
        "\n",
        "        def _backward():\n",
        "            self._grad += 1.0 * result._grad  #dL / dself\n",
        "            other._grad += 1.0 * result._grad # dL / dother\n",
        "\n",
        "        result._backward = _backward\n",
        "\n",
        "        return result\n",
        "\n",
        "\n",
        "        def sigmoid(self):\n",
        "        # f(x) = 1 / (1 + exp(self._value))\n",
        "        # f'(x) = f(x) * (1 - f(x))\n",
        "         val = 1.0 / (1.0 + math.exp(-self._value))\n",
        "\n",
        "        result = Parameter(\n",
        "            val,\n",
        "            f\"σ({self._name})\",\n",
        "            (self, )\n",
        "        )\n",
        "        def _backward():\n",
        "            self._grad = result._grad * val * (1 - val)\n",
        "\n",
        "            result._backward = _backward\n",
        "\n",
        "            return result\n",
        "\n",
        "\n",
        "        def relu(self):\n",
        "            val = np.maximum(0, self._value)\n",
        "\n",
        "        result = Parameter(\n",
        "            val,\n",
        "            f\"relu({self._name})\",\n",
        "            (self, )\n",
        "        )\n",
        "\n",
        "\n",
        "def _backward():\n",
        "            self._grad = result._grad * 0.5 * (1 + np.tanh(np.sqrt(2/np.pi) * (self._value + 0.044715 * np.power(self._value, 3)))) + 0.5 * self._value / np.power(np.cosh(np.sqrt(2/np.pi) * (self._value + 0.044715 * np.power(self._value, 3))), 2) * np.sqrt(2/np.pi) * (1 + 3 * 0.044715 * np.power(self._value, 2))\n",
        "            result._backward = _backward\n",
        "            return result\n",
        "def gelu(self):\n",
        "            val = 0.5 * self._value * (1 + np.tanh(np.sqrt(2/np.pi) * (self._value + 0.044715 * self._value ** 3)))\n",
        "            result = Parameter(\n",
        "            val,\n",
        "            f\"gelu({self._name})\",\n",
        "            (self, )\n",
        "        )\n",
        "            def _backward():\n",
        "                 self._grad = result._grad * np.array(self._value >= 0).astype(np.float64)\n",
        "                 result._backward = _backward\n",
        "                 return result\n",
        "\n",
        "\n",
        "def backward(self):\n",
        "       stack = []\n",
        "       visited = set()\n",
        "       def topoligical_sort(v):\n",
        "           if v not in visited:\n",
        "               visited.add(v)\n",
        "               for child in v._prev:\n",
        "                   topoligical_sort(child)\n",
        "               sorted.append(v)\n",
        "       topoligical_sort(self)\n",
        "\n",
        "       self._grad = 1.0\n",
        "       for node in reversed(stack):\n",
        "           node._backward()\n",
        "\n",
        "\n",
        "def sgd(weights: list, lr = 0.001):\n",
        "    for param in weights:\n",
        "        param._value -= param._grad * lr\n",
        "    return weights\n"
      ],
      "metadata": {
        "id": "a5y_HvN5YYyu"
      },
      "execution_count": null,
      "outputs": []
    }
  ]
}